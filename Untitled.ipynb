{
 "cells": [
  {
   "cell_type": "markdown",
   "id": "a009ba81",
   "metadata": {},
   "source": [
    "# US EV Population"
   ]
  },
  {
   "cell_type": "code",
   "execution_count": 42,
   "id": "aeed1465",
   "metadata": {},
   "outputs": [],
   "source": [
    "import pandas as pd\n",
    "import numpy as np\n",
    "import matplotlib.pyplot as plt\n",
    "import seaborn as sns\n",
    "from sklearn.preprocessing import LabelEncoder\n",
    "from sklearn.cluster import KMeans\n",
    "from sklearn.decomposition import PCA\n",
    "import warnings\n",
    "warnings.filterwarnings(\"ignore\")"
   ]
  },
  {
   "cell_type": "markdown",
   "id": "bd5bd8b2",
   "metadata": {},
   "source": [
    "### Import data"
   ]
  },
  {
   "cell_type": "code",
   "execution_count": 43,
   "id": "c7ba5242",
   "metadata": {},
   "outputs": [
    {
     "data": {
      "text/html": [
       "<div>\n",
       "<style scoped>\n",
       "    .dataframe tbody tr th:only-of-type {\n",
       "        vertical-align: middle;\n",
       "    }\n",
       "\n",
       "    .dataframe tbody tr th {\n",
       "        vertical-align: top;\n",
       "    }\n",
       "\n",
       "    .dataframe thead th {\n",
       "        text-align: right;\n",
       "    }\n",
       "</style>\n",
       "<table border=\"1\" class=\"dataframe\">\n",
       "  <thead>\n",
       "    <tr style=\"text-align: right;\">\n",
       "      <th></th>\n",
       "      <th>16807</th>\n",
       "      <th>108963</th>\n",
       "    </tr>\n",
       "  </thead>\n",
       "  <tbody>\n",
       "    <tr>\n",
       "      <th>VIN (1-10)</th>\n",
       "      <td>1G1FY6S00L</td>\n",
       "      <td>5YJ3E1EC2L</td>\n",
       "    </tr>\n",
       "    <tr>\n",
       "      <th>County</th>\n",
       "      <td>Thurston</td>\n",
       "      <td>Clark</td>\n",
       "    </tr>\n",
       "    <tr>\n",
       "      <th>City</th>\n",
       "      <td>Tenino</td>\n",
       "      <td>Vancouver</td>\n",
       "    </tr>\n",
       "    <tr>\n",
       "      <th>State</th>\n",
       "      <td>WA</td>\n",
       "      <td>WA</td>\n",
       "    </tr>\n",
       "    <tr>\n",
       "      <th>Postal Code</th>\n",
       "      <td>98589.0</td>\n",
       "      <td>98686.0</td>\n",
       "    </tr>\n",
       "    <tr>\n",
       "      <th>Model Year</th>\n",
       "      <td>2020</td>\n",
       "      <td>2020</td>\n",
       "    </tr>\n",
       "    <tr>\n",
       "      <th>Make</th>\n",
       "      <td>CHEVROLET</td>\n",
       "      <td>TESLA</td>\n",
       "    </tr>\n",
       "    <tr>\n",
       "      <th>Model</th>\n",
       "      <td>BOLT EV</td>\n",
       "      <td>MODEL 3</td>\n",
       "    </tr>\n",
       "    <tr>\n",
       "      <th>Electric Vehicle Type</th>\n",
       "      <td>Battery Electric Vehicle (BEV)</td>\n",
       "      <td>Battery Electric Vehicle (BEV)</td>\n",
       "    </tr>\n",
       "    <tr>\n",
       "      <th>Clean Alternative Fuel Vehicle (CAFV) Eligibility</th>\n",
       "      <td>Clean Alternative Fuel Vehicle Eligible</td>\n",
       "      <td>Clean Alternative Fuel Vehicle Eligible</td>\n",
       "    </tr>\n",
       "    <tr>\n",
       "      <th>Electric Range</th>\n",
       "      <td>259</td>\n",
       "      <td>308</td>\n",
       "    </tr>\n",
       "    <tr>\n",
       "      <th>Base MSRP</th>\n",
       "      <td>0</td>\n",
       "      <td>0</td>\n",
       "    </tr>\n",
       "    <tr>\n",
       "      <th>Legislative District</th>\n",
       "      <td>20.0</td>\n",
       "      <td>17.0</td>\n",
       "    </tr>\n",
       "    <tr>\n",
       "      <th>DOL Vehicle ID</th>\n",
       "      <td>145629662</td>\n",
       "      <td>224645641</td>\n",
       "    </tr>\n",
       "    <tr>\n",
       "      <th>Vehicle Location</th>\n",
       "      <td>POINT (-122.853421 46.8553318)</td>\n",
       "      <td>POINT (-122.6483953 45.7010427)</td>\n",
       "    </tr>\n",
       "    <tr>\n",
       "      <th>Electric Utility</th>\n",
       "      <td>PUGET SOUND ENERGY INC</td>\n",
       "      <td>BONNEVILLE POWER ADMINISTRATION||PUD NO 1 OF C...</td>\n",
       "    </tr>\n",
       "    <tr>\n",
       "      <th>2020 Census Tract</th>\n",
       "      <td>53067012620.0</td>\n",
       "      <td>53011040411.0</td>\n",
       "    </tr>\n",
       "  </tbody>\n",
       "</table>\n",
       "</div>"
      ],
      "text/plain": [
       "                                                                                    16807   \\\n",
       "VIN (1-10)                                                                      1G1FY6S00L   \n",
       "County                                                                            Thurston   \n",
       "City                                                                                Tenino   \n",
       "State                                                                                   WA   \n",
       "Postal Code                                                                        98589.0   \n",
       "Model Year                                                                            2020   \n",
       "Make                                                                             CHEVROLET   \n",
       "Model                                                                              BOLT EV   \n",
       "Electric Vehicle Type                                       Battery Electric Vehicle (BEV)   \n",
       "Clean Alternative Fuel Vehicle (CAFV) Eligibility  Clean Alternative Fuel Vehicle Eligible   \n",
       "Electric Range                                                                         259   \n",
       "Base MSRP                                                                                0   \n",
       "Legislative District                                                                  20.0   \n",
       "DOL Vehicle ID                                                                   145629662   \n",
       "Vehicle Location                                            POINT (-122.853421 46.8553318)   \n",
       "Electric Utility                                                    PUGET SOUND ENERGY INC   \n",
       "2020 Census Tract                                                            53067012620.0   \n",
       "\n",
       "                                                                                              108963  \n",
       "VIN (1-10)                                                                                5YJ3E1EC2L  \n",
       "County                                                                                         Clark  \n",
       "City                                                                                       Vancouver  \n",
       "State                                                                                             WA  \n",
       "Postal Code                                                                                  98686.0  \n",
       "Model Year                                                                                      2020  \n",
       "Make                                                                                           TESLA  \n",
       "Model                                                                                        MODEL 3  \n",
       "Electric Vehicle Type                                                 Battery Electric Vehicle (BEV)  \n",
       "Clean Alternative Fuel Vehicle (CAFV) Eligibility            Clean Alternative Fuel Vehicle Eligible  \n",
       "Electric Range                                                                                   308  \n",
       "Base MSRP                                                                                          0  \n",
       "Legislative District                                                                            17.0  \n",
       "DOL Vehicle ID                                                                             224645641  \n",
       "Vehicle Location                                                     POINT (-122.6483953 45.7010427)  \n",
       "Electric Utility                                   BONNEVILLE POWER ADMINISTRATION||PUD NO 1 OF C...  \n",
       "2020 Census Tract                                                                      53011040411.0  "
      ]
     },
     "execution_count": 43,
     "metadata": {},
     "output_type": "execute_result"
    }
   ],
   "source": [
    "evs = pd.read_csv(\"electric_vehicle_population_data.csv\")\n",
    "evs.sample(2).T"
   ]
  },
  {
   "cell_type": "code",
   "execution_count": 44,
   "id": "b4e06172",
   "metadata": {},
   "outputs": [
    {
     "name": "stdout",
     "output_type": "stream",
     "text": [
      "<class 'pandas.core.frame.DataFrame'>\n",
      "RangeIndex: 150482 entries, 0 to 150481\n",
      "Data columns (total 17 columns):\n",
      " #   Column                                             Non-Null Count   Dtype  \n",
      "---  ------                                             --------------   -----  \n",
      " 0   VIN (1-10)                                         150482 non-null  object \n",
      " 1   County                                             150479 non-null  object \n",
      " 2   City                                               150479 non-null  object \n",
      " 3   State                                              150482 non-null  object \n",
      " 4   Postal Code                                        150479 non-null  float64\n",
      " 5   Model Year                                         150482 non-null  int64  \n",
      " 6   Make                                               150482 non-null  object \n",
      " 7   Model                                              150482 non-null  object \n",
      " 8   Electric Vehicle Type                              150482 non-null  object \n",
      " 9   Clean Alternative Fuel Vehicle (CAFV) Eligibility  150482 non-null  object \n",
      " 10  Electric Range                                     150482 non-null  int64  \n",
      " 11  Base MSRP                                          150482 non-null  int64  \n",
      " 12  Legislative District                               150141 non-null  float64\n",
      " 13  DOL Vehicle ID                                     150482 non-null  int64  \n",
      " 14  Vehicle Location                                   150475 non-null  object \n",
      " 15  Electric Utility                                   150479 non-null  object \n",
      " 16  2020 Census Tract                                  150479 non-null  float64\n",
      "dtypes: float64(3), int64(4), object(10)\n",
      "memory usage: 19.5+ MB\n"
     ]
    }
   ],
   "source": [
    "evs.info()"
   ]
  },
  {
   "cell_type": "code",
   "execution_count": 45,
   "id": "1fe57bce",
   "metadata": {},
   "outputs": [
    {
     "data": {
      "text/plain": [
       "VIN (1-10)                                             0\n",
       "County                                                 3\n",
       "City                                                   3\n",
       "State                                                  0\n",
       "Postal Code                                            3\n",
       "Model Year                                             0\n",
       "Make                                                   0\n",
       "Model                                                  0\n",
       "Electric Vehicle Type                                  0\n",
       "Clean Alternative Fuel Vehicle (CAFV) Eligibility      0\n",
       "Electric Range                                         0\n",
       "Base MSRP                                              0\n",
       "Legislative District                                 341\n",
       "DOL Vehicle ID                                         0\n",
       "Vehicle Location                                       7\n",
       "Electric Utility                                       3\n",
       "2020 Census Tract                                      3\n",
       "dtype: int64"
      ]
     },
     "execution_count": 45,
     "metadata": {},
     "output_type": "execute_result"
    }
   ],
   "source": [
    "evs.isnull().sum()"
   ]
  },
  {
   "cell_type": "markdown",
   "id": "9107f810",
   "metadata": {},
   "source": [
    "### Get top 5 vehicle makes"
   ]
  },
  {
   "cell_type": "code",
   "execution_count": 49,
   "id": "b6984043",
   "metadata": {},
   "outputs": [
    {
     "data": {
      "image/png": "[encoded data removed]",
      "text/plain": [
       "<Figure size 864x432 with 2 Axes>"
      ]
     },
     "metadata": {
      "needs_background": "light"
     },
     "output_type": "display_data"
    }
   ],
   "source": [
    "top_five_makes = evs['Make'].value_counts().nlargest(5).index\n",
    "\n",
    "only_top_five = evs[evs['Make'].isin(top_five_makes)]\n",
    "plt.figure(figsize=(12,6))\n",
    "plt.subplot(1, 2, 1)\n",
    "graphic = sns.histplot(only_top_five, x=\"Make\")\n",
    "\n",
    "custom_palette = sns.color_palette(\"Set1\", n_colors=len(only_top_five['Make'].unique()))\n",
    "\n",
    "\n",
    "\n",
    "ax = plt.gca()\n",
    "xticklabels = ax.get_xticklabels()\n",
    "ax.set_xticklabels(xticklabels, rotation=90)\n",
    "\n",
    "plt.subplot(1, 2, 2)\n",
    "make_counts = only_top_five['Make'].value_counts()\n",
    "plt.pie(make_counts, labels=make_counts.index)\n",
    "\n",
    "plt.tight_layout()\n",
    "plt.show()"
   ]
  },
  {
   "cell_type": "code",
   "execution_count": null,
   "id": "027df76a",
   "metadata": {},
   "outputs": [],
   "source": []
  }
 ],
 "metadata": {
  "kernelspec": {
   "display_name": "Python 3 (ipykernel)",
   "language": "python",
   "name": "python3"
  },
  "language_info": {
   "codemirror_mode": {
    "name": "ipython",
    "version": 3
   },
   "file_extension": ".py",
   "mimetype": "text/x-python",
   "name": "python",
   "nbconvert_exporter": "python",
   "pygments_lexer": "ipython3",
   "version": "3.10.2"
  }
 },
 "nbformat": 4,
 "nbformat_minor": 5
}
